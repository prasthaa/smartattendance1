{
 "cells": [
  {
   "cell_type": "code",
   "execution_count": null,
   "id": "d5a879cf",
   "metadata": {},
   "outputs": [],
   "source": [
    "!pip install albumentations"
   ]
  },
  {
   "cell_type": "code",
   "execution_count": null,
   "id": "2449ca46",
   "metadata": {
    "scrolled": true
   },
   "outputs": [],
   "source": [
    "!pip install opencv-python"
   ]
  },
  {
   "cell_type": "code",
   "execution_count": null,
   "id": "973b1a98",
   "metadata": {},
   "outputs": [],
   "source": [
    "import cv2"
   ]
  },
  {
   "cell_type": "code",
   "execution_count": null,
   "id": "0a923861",
   "metadata": {},
   "outputs": [],
   "source": [
    "import os\n",
    "import albumentations as A"
   ]
  },
  {
   "cell_type": "code",
   "execution_count": null,
   "id": "b395da35",
   "metadata": {},
   "outputs": [],
   "source": [
    "import random"
   ]
  },
  {
   "cell_type": "code",
   "execution_count": null,
   "id": "b51186f0",
   "metadata": {},
   "outputs": [],
   "source": [
    "path = \"C:/Users/Dell/Desktop/attedance_pic/ATTENDANCE\"\n",
    "\n",
    "images = []\n",
    "for filename in os.listdir(path):\n",
    "    for img_name in os.listdir(os.path.join(path, filename)):\n",
    "        img = cv2.imread(os.path.join(path, filename, img_name))\n",
    "        if img is not None:\n",
    "            images.append((filename, img))"
   ]
  },
  {
   "cell_type": "code",
   "execution_count": null,
   "id": "38c6098b",
   "metadata": {},
   "outputs": [],
   "source": []
  },
  {
   "cell_type": "code",
   "execution_count": null,
   "id": "747c3840",
   "metadata": {},
   "outputs": [],
   "source": []
  }
 ],
 "metadata": {
  "kernelspec": {
   "display_name": "Python 3 (ipykernel)",
   "language": "python",
   "name": "python3"
  },
  "language_info": {
   "codemirror_mode": {
    "name": "ipython",
    "version": 3
   },
   "file_extension": ".py",
   "mimetype": "text/x-python",
   "name": "python",
   "nbconvert_exporter": "python",
   "pygments_lexer": "ipython3",
   "version": "3.9.12"
  }
 },
 "nbformat": 4,
 "nbformat_minor": 5
}
